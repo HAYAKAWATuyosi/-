{
  "nbformat": 4,
  "nbformat_minor": 0,
  "metadata": {
    "colab": {
      "provenance": [],
      "collapsed_sections": [
        "tIwuurJL4n-t"
      ],
      "toc_visible": true
    },
    "kernelspec": {
      "name": "python3",
      "display_name": "Python 3"
    },
    "language_info": {
      "name": "python"
    }
  },
  "cells": [
    {
      "cell_type": "code",
      "execution_count": 1,
      "metadata": {
        "colab": {
          "base_uri": "https://localhost:8080/"
        },
        "id": "gtOYJgbozkR8",
        "outputId": "c6cc375c-baff-4ce3-d24d-960cb85cc727"
      },
      "outputs": [
        {
          "output_type": "stream",
          "name": "stdout",
          "text": [
            "◯\n"
          ]
        }
      ],
      "source": [
        "print('◯')"
      ]
    },
    {
      "cell_type": "code",
      "execution_count": 3,
      "metadata": {
        "colab": {
          "base_uri": "https://localhost:8080/"
        },
        "outputId": "6436c39a-8f6f-4c30-c9c3-88066ae1aea7",
        "id": "GcoM84lL0O6b"
      },
      "outputs": [
        {
          "output_type": "stream",
          "name": "stdout",
          "text": [
            "◯❎️🙆\n"
          ]
        }
      ],
      "source": [
        "print('◯❎️🙆')"
      ]
    },
    {
      "cell_type": "code",
      "source": [
        "row=\"◯◯◯\"\n",
        "print(row)"
      ],
      "metadata": {
        "colab": {
          "base_uri": "https://localhost:8080/"
        },
        "id": "QRaswReh0rsp",
        "outputId": "cbb7401d-e849-4437-af11-9939948f2517"
      },
      "execution_count": 4,
      "outputs": [
        {
          "output_type": "stream",
          "name": "stdout",
          "text": [
            "◯◯◯\n"
          ]
        }
      ]
    },
    {
      "cell_type": "markdown",
      "source": [
        "## 複合代入演算子"
      ],
      "metadata": {
        "id": "kPujN-dJ3vbw"
      }
    },
    {
      "cell_type": "code",
      "source": [
        "x = 10\n",
        "x += 2\n",
        "x"
      ],
      "metadata": {
        "colab": {
          "base_uri": "https://localhost:8080/"
        },
        "id": "uSZDkNMv1tV-",
        "outputId": "84f531bf-ae04-441c-94e7-b2340b3fb06f"
      },
      "execution_count": 5,
      "outputs": [
        {
          "output_type": "execute_result",
          "data": {
            "text/plain": [
              "12"
            ]
          },
          "metadata": {},
          "execution_count": 5
        }
      ]
    },
    {
      "cell_type": "markdown",
      "source": [
        "# 配列（p.23）"
      ],
      "metadata": {
        "id": "eZK-gcqL2pW7"
      }
    },
    {
      "cell_type": "code",
      "source": [
        "rows = ['Ｘ○○', '○Ｘ○', '○○Ｘ', ]\n",
        "for row in rows:\n",
        "  print(row)"
      ],
      "metadata": {
        "colab": {
          "base_uri": "https://localhost:8080/"
        },
        "id": "YxcT8_ec20Zp",
        "outputId": "4f73aeca-e72e-4130-8206-f983fe600b76"
      },
      "execution_count": 6,
      "outputs": [
        {
          "output_type": "stream",
          "name": "stdout",
          "text": [
            "Ｘ○○\n",
            "○Ｘ○\n",
            "○○Ｘ\n"
          ]
        }
      ]
    },
    {
      "cell_type": "markdown",
      "source": [
        "## range() で回してみる"
      ],
      "metadata": {
        "id": "aVeMfKiL3I--"
      }
    },
    {
      "cell_type": "code",
      "source": [
        "for i in range(3):\n",
        "  print(rows[i])"
      ],
      "metadata": {
        "colab": {
          "base_uri": "https://localhost:8080/"
        },
        "id": "67wyxVmc3MiG",
        "outputId": "1f4437e7-77d4-4e31-a589-6daa2652838e"
      },
      "execution_count": 10,
      "outputs": [
        {
          "output_type": "stream",
          "name": "stdout",
          "text": [
            "Ｘ○○\n",
            "○Ｘ○\n",
            "○○Ｘ\n"
          ]
        }
      ]
    },
    {
      "cell_type": "markdown",
      "source": [
        "### range()にrowsの要素数よりも大きな数字を入れてみる"
      ],
      "metadata": {
        "id": "phrX6m7M3c5H"
      }
    },
    {
      "cell_type": "code",
      "source": [
        "for i in range(5):\n",
        "  print(rows[i])"
      ],
      "metadata": {
        "colab": {
          "base_uri": "https://localhost:8080/",
          "height": 238
        },
        "id": "ornx1ebx3XNw",
        "outputId": "8ff4292f-1847-4fbf-e26c-d0f121f3012c"
      },
      "execution_count": 11,
      "outputs": [
        {
          "output_type": "stream",
          "name": "stdout",
          "text": [
            "Ｘ○○\n",
            "○Ｘ○\n",
            "○○Ｘ\n"
          ]
        },
        {
          "output_type": "error",
          "ename": "IndexError",
          "evalue": "list index out of range",
          "traceback": [
            "\u001b[0;31m---------------------------------------------------------------------------\u001b[0m",
            "\u001b[0;31mIndexError\u001b[0m                                Traceback (most recent call last)",
            "\u001b[0;32m<ipython-input-11-3a01554c46eb>\u001b[0m in \u001b[0;36m<cell line: 1>\u001b[0;34m()\u001b[0m\n\u001b[1;32m      1\u001b[0m \u001b[0;32mfor\u001b[0m \u001b[0mi\u001b[0m \u001b[0;32min\u001b[0m \u001b[0mrange\u001b[0m\u001b[0;34m(\u001b[0m\u001b[0;36m5\u001b[0m\u001b[0;34m)\u001b[0m\u001b[0;34m:\u001b[0m\u001b[0;34m\u001b[0m\u001b[0;34m\u001b[0m\u001b[0m\n\u001b[0;32m----> 2\u001b[0;31m   \u001b[0mprint\u001b[0m\u001b[0;34m(\u001b[0m\u001b[0mrows\u001b[0m\u001b[0;34m[\u001b[0m\u001b[0mi\u001b[0m\u001b[0;34m]\u001b[0m\u001b[0;34m)\u001b[0m\u001b[0;34m\u001b[0m\u001b[0;34m\u001b[0m\u001b[0m\n\u001b[0m",
            "\u001b[0;31mIndexError\u001b[0m: list index out of range"
          ]
        }
      ]
    },
    {
      "cell_type": "markdown",
      "source": [
        "## 配列の添字に負の値（マイナス）を入れてみる"
      ],
      "metadata": {
        "id": "rh6KwRzm4IV3"
      }
    },
    {
      "cell_type": "markdown",
      "source": [
        "### マイナス1 → 最後の要素"
      ],
      "metadata": {
        "id": "gK_-rAua4Su7"
      }
    },
    {
      "cell_type": "code",
      "source": [
        "rows[-1]"
      ],
      "metadata": {
        "colab": {
          "base_uri": "https://localhost:8080/",
          "height": 55
        },
        "id": "IOAJVJKy37SQ",
        "outputId": "aaa4be40-4c94-43a7-ffee-f92dc7ba1eb6"
      },
      "execution_count": 12,
      "outputs": [
        {
          "output_type": "execute_result",
          "data": {
            "text/plain": [
              "'○○Ｘ'"
            ],
            "application/vnd.google.colaboratory.intrinsic+json": {
              "type": "string"
            }
          },
          "metadata": {},
          "execution_count": 12
        }
      ]
    },
    {
      "cell_type": "markdown",
      "source": [
        "### マイナス2 → 最後から2番目の要素"
      ],
      "metadata": {
        "id": "FDkUbPAs4WCj"
      }
    },
    {
      "cell_type": "code",
      "source": [
        "rows[-2]"
      ],
      "metadata": {
        "colab": {
          "base_uri": "https://localhost:8080/",
          "height": 55
        },
        "id": "57sqS4YX4Cxn",
        "outputId": "1235655c-c5ad-424f-8193-633af029673e"
      },
      "execution_count": 14,
      "outputs": [
        {
          "output_type": "execute_result",
          "data": {
            "text/plain": [
              "'○Ｘ○'"
            ],
            "application/vnd.google.colaboratory.intrinsic+json": {
              "type": "string"
            }
          },
          "metadata": {},
          "execution_count": 14
        }
      ]
    },
    {
      "cell_type": "markdown",
      "source": [
        "## 2次元配列、ちょい難しいぞ～"
      ],
      "metadata": {
        "id": "tIwuurJL4n-t"
      }
    },
    {
      "cell_type": "code",
      "source": [
        "for i in range(8):\n",
        "  for j in range(3):\n",
        "    print('<{}_{}>, '.format(i, j), end='')\n",
        "  print()"
      ],
      "metadata": {
        "colab": {
          "base_uri": "https://localhost:8080/"
        },
        "id": "iRWcZ7mo4GqS",
        "outputId": "d8445fce-2af6-4398-fb08-d3d508a2947a"
      },
      "execution_count": 17,
      "outputs": [
        {
          "output_type": "stream",
          "name": "stdout",
          "text": [
            "<0_0>, <0_1>, <0_2>, \n",
            "<1_0>, <1_1>, <1_2>, \n",
            "<2_0>, <2_1>, <2_2>, \n",
            "<3_0>, <3_1>, <3_2>, \n",
            "<4_0>, <4_1>, <4_2>, \n",
            "<5_0>, <5_1>, <5_2>, \n",
            "<6_0>, <6_1>, <6_2>, \n",
            "<7_0>, <7_1>, <7_2>, \n"
          ]
        }
      ]
    },
    {
      "cell_type": "code",
      "source": [
        "for i in range(8):\n",
        "  for j in range(3):\n",
        "    print('<{}_{}>, '.format(j, i), end='')\n",
        "  print()"
      ],
      "metadata": {
        "colab": {
          "base_uri": "https://localhost:8080/"
        },
        "id": "K7FvZaLd4_uW",
        "outputId": "5150ba18-7a42-40e5-e848-4bd9e8771d4e"
      },
      "execution_count": 18,
      "outputs": [
        {
          "output_type": "stream",
          "name": "stdout",
          "text": [
            "<0_0>, <1_0>, <2_0>, \n",
            "<0_1>, <1_1>, <2_1>, \n",
            "<0_2>, <1_2>, <2_2>, \n",
            "<0_3>, <1_3>, <2_3>, \n",
            "<0_4>, <1_4>, <2_4>, \n",
            "<0_5>, <1_5>, <2_5>, \n",
            "<0_6>, <1_6>, <2_6>, \n",
            "<0_7>, <1_7>, <2_7>, \n"
          ]
        }
      ]
    },
    {
      "cell_type": "markdown",
      "source": [
        "## 配列の短縮記法（名称不明）"
      ],
      "metadata": {
        "id": "PRrIaOGB6nlk"
      }
    },
    {
      "cell_type": "code",
      "source": [
        "a = [0]*5\n",
        "a"
      ],
      "metadata": {
        "colab": {
          "base_uri": "https://localhost:8080/"
        },
        "id": "x4mcLIK55Vwi",
        "outputId": "3c854f52-cf55-4e4c-d6c8-3f8c66c18e1f"
      },
      "execution_count": 22,
      "outputs": [
        {
          "output_type": "execute_result",
          "data": {
            "text/plain": [
              "[0, 0, 0, 0, 0]"
            ]
          },
          "metadata": {},
          "execution_count": 22
        }
      ]
    },
    {
      "cell_type": "markdown",
      "source": [
        "### 覚え方: 隣接する角括弧は融合する"
      ],
      "metadata": {
        "id": "nEEIZu707Ks8"
      }
    },
    {
      "cell_type": "code",
      "source": [
        "[1] + [2] + [3]"
      ],
      "metadata": {
        "colab": {
          "base_uri": "https://localhost:8080/"
        },
        "id": "Ys7y5Eec7FqW",
        "outputId": "87475690-a682-4cf8-b694-cb9246d0f785"
      },
      "execution_count": 24,
      "outputs": [
        {
          "output_type": "execute_result",
          "data": {
            "text/plain": [
              "[1, 2, 3]"
            ]
          },
          "metadata": {},
          "execution_count": 24
        }
      ]
    },
    {
      "cell_type": "markdown",
      "source": [
        "だから...\n",
        "\n",
        "[0]*5 --> [0]+[0]+[0]+[0]+[0] --> [0, 0, 0, 0, 0]\n",
        "\n"
      ],
      "metadata": {
        "id": "r5XJg_qz7QfY"
      }
    },
    {
      "cell_type": "markdown",
      "source": [
        "## リスト内包表記"
      ],
      "metadata": {
        "id": "5LlTzip76B6i"
      }
    },
    {
      "cell_type": "code",
      "source": [
        "[i*10 for i in range(5)]"
      ],
      "metadata": {
        "colab": {
          "base_uri": "https://localhost:8080/"
        },
        "id": "3q9Y0y357m2g",
        "outputId": "4db9e703-fe46-4207-987e-73aee76597c2"
      },
      "execution_count": 26,
      "outputs": [
        {
          "output_type": "execute_result",
          "data": {
            "text/plain": [
              "[0, 10, 20, 30, 40]"
            ]
          },
          "metadata": {},
          "execution_count": 26
        }
      ]
    },
    {
      "cell_type": "markdown",
      "source": [
        "### 短縮記法の誤った使い方（p.29）"
      ],
      "metadata": {
        "id": "-zqtiEDR8OA1"
      }
    },
    {
      "cell_type": "code",
      "source": [
        "a = [[0]*3]*5\n",
        "a"
      ],
      "metadata": {
        "colab": {
          "base_uri": "https://localhost:8080/"
        },
        "id": "7E5zbzF57qSf",
        "outputId": "f3180b7c-1c65-4062-8941-5f5e45f72a2e"
      },
      "execution_count": 33,
      "outputs": [
        {
          "output_type": "execute_result",
          "data": {
            "text/plain": [
              "[[0, 0, 0], [0, 0, 0], [0, 0, 0], [0, 0, 0], [0, 0, 0]]"
            ]
          },
          "metadata": {},
          "execution_count": 33
        }
      ]
    },
    {
      "cell_type": "code",
      "source": [
        "a[1][2]=7"
      ],
      "metadata": {
        "id": "AvKPiLWN8ZRC"
      },
      "execution_count": 31,
      "outputs": []
    },
    {
      "cell_type": "code",
      "source": [
        "a"
      ],
      "metadata": {
        "colab": {
          "base_uri": "https://localhost:8080/"
        },
        "id": "T3Fphaoq8Z15",
        "outputId": "40212ead-babe-49ca-eea1-5a6513b65e5a"
      },
      "execution_count": 32,
      "outputs": [
        {
          "output_type": "execute_result",
          "data": {
            "text/plain": [
              "[[0, 0, 7], [0, 0, 7], [0, 0, 7], [0, 0, 7], [0, 0, 7]]"
            ]
          },
          "metadata": {},
          "execution_count": 32
        }
      ]
    },
    {
      "cell_type": "markdown",
      "source": [
        "### *組み込み関数* id() で 変数の識別子を確認する\n",
        "\n",
        "https://docs.python.org/ja/3/library/functions.html#id\n",
        "![20240806_組み込み関数id.png](data:image/png;base64,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)"
      ],
      "metadata": {
        "id": "bqPjcX1V9n4z"
      }
    },
    {
      "cell_type": "code",
      "source": [
        "print(id(a[0]), id(a[1]), id(a[2]), id(a[3]), id(a[4]))"
      ],
      "metadata": {
        "colab": {
          "base_uri": "https://localhost:8080/"
        },
        "id": "DwB5mH7T8iuq",
        "outputId": "a5415cdf-6af2-4db0-eb30-08c6c4bc54c9"
      },
      "execution_count": 37,
      "outputs": [
        {
          "output_type": "stream",
          "name": "stdout",
          "text": [
            "139667795427840 139667795427840 139667795427840 139667795427840 139667795427840\n"
          ]
        }
      ]
    },
    {
      "cell_type": "markdown",
      "source": [
        "# 関数"
      ],
      "metadata": {
        "id": "MCrOFAI1-Wor"
      }
    },
    {
      "cell_type": "code",
      "source": [],
      "metadata": {
        "id": "iaOpeQRV-aIN"
      },
      "execution_count": null,
      "outputs": []
    },
    {
      "cell_type": "markdown",
      "source": [
        "## init_board() の定義\n",
        "\n",
        "\n"
      ],
      "metadata": {
        "id": "MzQ-Wq41-uVu"
      }
    },
    {
      "cell_type": "code",
      "source": [
        "def init_board():\n",
        "  for i in range(8):\n",
        "    for j in range(3):\n",
        "      print('◆', end='')\n",
        "    print()"
      ],
      "metadata": {
        "id": "Eq2o9LJy-uGr"
      },
      "execution_count": 59,
      "outputs": []
    },
    {
      "cell_type": "markdown",
      "source": [
        "### inti_board() の実行（呼び出し）"
      ],
      "metadata": {
        "id": "H7H19bNE_NYF"
      }
    },
    {
      "cell_type": "code",
      "source": [
        "init_board()"
      ],
      "metadata": {
        "colab": {
          "base_uri": "https://localhost:8080/"
        },
        "id": "TrcKa_ns--k5",
        "outputId": "bb46aff0-0993-4a0f-f295-18979c86a899"
      },
      "execution_count": 39,
      "outputs": [
        {
          "output_type": "stream",
          "name": "stdout",
          "text": [
            "◆◆◆\n",
            "◆◆◆\n",
            "◆◆◆\n",
            "◆◆◆\n",
            "◆◆◆\n",
            "◆◆◆\n",
            "◆◆◆\n",
            "◆◆◆\n"
          ]
        }
      ]
    },
    {
      "cell_type": "markdown",
      "source": [
        "## print_board() の定義\n"
      ],
      "metadata": {
        "id": "zK0MaY_Z_Kgk"
      }
    },
    {
      "cell_type": "code",
      "source": [
        "def print_board(board):\n",
        "  for row in board:\n",
        "    for cell in row:\n",
        "      print(cell, end='')\n",
        "    print()"
      ],
      "metadata": {
        "id": "p_llz6av_AIH"
      },
      "execution_count": 42,
      "outputs": []
    },
    {
      "cell_type": "markdown",
      "source": [
        "### print_board() の実行（呼び出し）"
      ],
      "metadata": {
        "id": "MFP4EvLD_RSp"
      }
    },
    {
      "cell_type": "code",
      "source": [
        "my_first_board = [['◆', '◯', '▲'], ['◆', '◯', '▲'], ['◆', '◯', '▲'], ['◆', '◯', '▲'], ['◆', '◯', '▲'], ]\n",
        "print_board(my_first_board)"
      ],
      "metadata": {
        "colab": {
          "base_uri": "https://localhost:8080/"
        },
        "id": "mz2AlUw4_jnR",
        "outputId": "a875bfef-de06-4314-bff8-0fd76658bc2a"
      },
      "execution_count": 43,
      "outputs": [
        {
          "output_type": "stream",
          "name": "stdout",
          "text": [
            "◆◯▲\n",
            "◆◯▲\n",
            "◆◯▲\n",
            "◆◯▲\n",
            "◆◯▲\n"
          ]
        }
      ]
    },
    {
      "cell_type": "code",
      "source": [
        "my_first_board = [['◆', '◯', '▲'], ['◯','◯','◯','◆', '◯', '▲'], ['▲','▲','▲','▲','▲','◆', '◯', ]]\n",
        "print_board(my_first_board)"
      ],
      "metadata": {
        "colab": {
          "base_uri": "https://localhost:8080/"
        },
        "id": "znR9nxcw_yVE",
        "outputId": "8146af87-a9be-4c91-8a35-9cd6a5b06296"
      },
      "execution_count": 44,
      "outputs": [
        {
          "output_type": "stream",
          "name": "stdout",
          "text": [
            "◆◯▲\n",
            "◯◯◯◆◯▲\n",
            "▲▲▲▲▲◆◯\n"
          ]
        }
      ]
    },
    {
      "cell_type": "markdown",
      "source": [
        "↑「正方形でなければならない」とは思い込みに過ぎない。"
      ],
      "metadata": {
        "id": "J0WNhJmeAGey"
      }
    },
    {
      "cell_type": "markdown",
      "source": [
        "# 対戦型にする"
      ],
      "metadata": {
        "id": "SjRyMgVpA7sl"
      }
    },
    {
      "cell_type": "markdown",
      "source": [
        "## input()を使ってみる\n",
        "\n",
        "文字列から整数への変換（by 組み込み関数 int()）をしつつ"
      ],
      "metadata": {
        "id": "EXkOHDDjAhR8"
      }
    },
    {
      "cell_type": "code",
      "source": [
        "row = int(input('行を入力してください'))\n",
        "col = int(input('列を入力してください'))"
      ],
      "metadata": {
        "colab": {
          "base_uri": "https://localhost:8080/"
        },
        "id": "25smNd53Aj8U",
        "outputId": "50b115af-084d-4596-8f70-07ef433646dd"
      },
      "execution_count": 45,
      "outputs": [
        {
          "name": "stdout",
          "output_type": "stream",
          "text": [
            "行を入力してください8\n",
            "列を入力してください777\n"
          ]
        }
      ]
    },
    {
      "cell_type": "code",
      "source": [
        "print(row, col)"
      ],
      "metadata": {
        "colab": {
          "base_uri": "https://localhost:8080/"
        },
        "id": "p_e3Qi6lAmWr",
        "outputId": "0df30cf4-031c-411f-f7f5-3869cc0fad39"
      },
      "execution_count": 46,
      "outputs": [
        {
          "output_type": "stream",
          "name": "stdout",
          "text": [
            "8 777\n"
          ]
        }
      ]
    },
    {
      "cell_type": "markdown",
      "source": [
        "## 条件に応じて分岐させる\n",
        "\n",
        "1.   カッコはなるべくたくさんつける\n",
        "    *   結果は同じだけど、\n",
        "    *   読みやすさ、ひいては保守性が異なる\n",
        "2.   なるべくたくさんつけるためには、手入力しない"
      ],
      "metadata": {
        "id": "VKjtMljeA1_g"
      }
    },
    {
      "cell_type": "code",
      "source": [
        "if row >= 0 and row <= 7:\n",
        "  print('OK')\n",
        "else:\n",
        "  print('NG: row goes out of the range'.format(row))"
      ],
      "metadata": {
        "colab": {
          "base_uri": "https://localhost:8080/"
        },
        "id": "53slLMVuA6Kg",
        "outputId": "dc097d53-b90b-4136-818b-db7007dba76f"
      },
      "execution_count": 53,
      "outputs": [
        {
          "output_type": "stream",
          "name": "stdout",
          "text": [
            "NG: row goes out of the range\n"
          ]
        }
      ]
    },
    {
      "cell_type": "code",
      "source": [
        "if (row >= 0) and (row <= 7):\n",
        "  print('OK')\n",
        "else:\n",
        "  print('NG: row goes out of the range'.format(row))"
      ],
      "metadata": {
        "colab": {
          "base_uri": "https://localhost:8080/"
        },
        "outputId": "8f4e0989-c9e0-49ee-a5f9-89349983b3dd",
        "id": "QafJFhxbCZwf"
      },
      "execution_count": 54,
      "outputs": [
        {
          "output_type": "stream",
          "name": "stdout",
          "text": [
            "NG: row goes out of the range\n"
          ]
        }
      ]
    },
    {
      "cell_type": "code",
      "source": [
        "if (row >= 0 and row <= 7):\n",
        "  print('OK')\n",
        "else:\n",
        "  print('NG: row goes out of the range'.format(row))"
      ],
      "metadata": {
        "colab": {
          "base_uri": "https://localhost:8080/"
        },
        "outputId": "9c95e587-0ce3-4d68-e367-5b00179fd0d1",
        "id": "qZP98Lq8CaCI"
      },
      "execution_count": 57,
      "outputs": [
        {
          "output_type": "stream",
          "name": "stdout",
          "text": [
            "NG: row goes out of the range\n"
          ]
        }
      ]
    },
    {
      "cell_type": "code",
      "source": [
        "if ((row >= 0) and (row <= 7)):\n",
        "  print('OK')\n",
        "else:\n",
        "  print('NG: row goes out of the range'.format(row))"
      ],
      "metadata": {
        "colab": {
          "base_uri": "https://localhost:8080/"
        },
        "outputId": "b4a3dd2b-d872-4d5e-e0cd-0c3e91b945ef",
        "id": "cQfk9tMdCiAV"
      },
      "execution_count": 58,
      "outputs": [
        {
          "output_type": "stream",
          "name": "stdout",
          "text": [
            "NG: row goes out of the range\n"
          ]
        }
      ]
    },
    {
      "cell_type": "code",
      "source": [],
      "metadata": {
        "id": "rXh5U_DcCiub"
      },
      "execution_count": null,
      "outputs": []
    },
    {
      "cell_type": "markdown",
      "source": [
        "## 再度 init_board() を定義する（3行・3列で）"
      ],
      "metadata": {
        "id": "uXvavjknD0tp"
      }
    },
    {
      "cell_type": "code",
      "source": [
        "def init_board():\n",
        "  return [['□']*3 for i in range(3)]"
      ],
      "metadata": {
        "id": "V_b-hq3ID71R"
      },
      "execution_count": 88,
      "outputs": []
    },
    {
      "cell_type": "code",
      "source": [
        "def check_finished():\n",
        "  for i in range(3):\n",
        "    for j in range(3):\n",
        "      if board[i][j] == '□':\n",
        "        return False\n",
        "  return True"
      ],
      "metadata": {
        "id": "cBvDqFzOIQ9V"
      },
      "execution_count": 93,
      "outputs": []
    },
    {
      "cell_type": "markdown",
      "source": [
        "## while を使って、全部書いてみる"
      ],
      "metadata": {
        "id": "MGoNdcIlEEqP"
      }
    },
    {
      "cell_type": "code",
      "source": [
        "mark='◯'\n",
        "board = init_board()\n",
        "print(board)\n",
        "\n",
        "while True:\n",
        "  print_board(board)\n",
        "  row = int(input('行を入力してください（1～3）')) -1\n",
        "  col = int(input('列を入力してください（1～3）')) -1\n",
        "\n",
        "  if (row < 0) or (row > 2) or (col < 0) or (col > 2):\n",
        "    print()\n",
        "    print('NG: row or col goes out of the range; ({}, {})'.format(row, col))\n",
        "    print()\n",
        "    continue\n",
        "\n",
        "  if board[row][col] != '□':\n",
        "    print()\n",
        "    print('NG: already occupied; ({}, {})={}'.format(row, col, board[row][col]))\n",
        "    print()\n",
        "    continue\n",
        "\n",
        "  board[row][col] = mark\n",
        "  if(mark=='◯'):\n",
        "    mark='Ｘ'\n",
        "  else:\n",
        "    mark='◯'\n",
        "\n",
        "\n",
        "  if check_finished():\n",
        "    print('全てのマスが埋まりました')\n",
        "    print_board(board)\n",
        "    print('ゲーム終了')\n",
        "    break"
      ],
      "metadata": {
        "colab": {
          "base_uri": "https://localhost:8080/"
        },
        "id": "rYGs49vLERkj",
        "outputId": "533dc006-8f69-49e2-fcdf-fb8c7d4b4bc6"
      },
      "execution_count": 99,
      "outputs": [
        {
          "output_type": "stream",
          "name": "stdout",
          "text": [
            "[['□', '□', '□'], ['□', '□', '□'], ['□', '□', '□']]\n",
            "□□□\n",
            "□□□\n",
            "□□□\n",
            "行を入力してください（1～3）1\n",
            "列を入力してください（1～3）1\n",
            "◯□□\n",
            "□□□\n",
            "□□□\n",
            "行を入力してください（1～3）1\n",
            "列を入力してください（1～3）2\n",
            "◯Ｘ□\n",
            "□□□\n",
            "□□□\n",
            "行を入力してください（1～3）1\n",
            "列を入力してください（1～3）3\n",
            "◯Ｘ◯\n",
            "□□□\n",
            "□□□\n",
            "行を入力してください（1～3）2\n",
            "列を入力してください（1～3）1\n",
            "◯Ｘ◯\n",
            "Ｘ□□\n",
            "□□□\n",
            "行を入力してください（1～3）2\n",
            "列を入力してください（1～3）2\n",
            "◯Ｘ◯\n",
            "Ｘ◯□\n",
            "□□□\n",
            "行を入力してください（1～3）2\n",
            "列を入力してください（1～3）3\n",
            "◯Ｘ◯\n",
            "Ｘ◯Ｘ\n",
            "□□□\n",
            "行を入力してください（1～3）3\n",
            "列を入力してください（1～3）1\n",
            "◯Ｘ◯\n",
            "Ｘ◯Ｘ\n",
            "◯□□\n",
            "行を入力してください（1～3）3\n",
            "列を入力してください（1～3）2\n",
            "◯Ｘ◯\n",
            "Ｘ◯Ｘ\n",
            "◯Ｘ□\n",
            "行を入力してください（1～3）3\n",
            "列を入力してください（1～3）3\n",
            "全てのマスが埋まりました\n",
            "◯Ｘ◯\n",
            "Ｘ◯Ｘ\n",
            "◯Ｘ◯\n",
            "ゲーム終了\n"
          ]
        }
      ]
    },
    {
      "cell_type": "code",
      "source": [],
      "metadata": {
        "id": "6huxy6FqJJT-"
      },
      "execution_count": null,
      "outputs": []
    }
  ]
}
